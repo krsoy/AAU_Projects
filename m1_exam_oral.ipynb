{
 "cells": [
  {
   "metadata": {
    "ExecuteTime": {
     "end_time": "2025-09-30T15:17:43.115005Z",
     "start_time": "2025-09-30T15:17:41.597803Z"
    }
   },
   "cell_type": "code",
   "source": [
    "# load pandas and read the csv file from the url\n",
    "import pandas as pd\n",
    "import matplotlib.pyplot as plt\n",
    "import seaborn as sns\n",
    "# I don't know why it takes so long to load the data\n",
    "df = pd.read_csv(\"./stack-overflow-developer-survey-2024/survey_results_public.csv\", )\n",
    "\n",
    "# let's take a look at the data\n",
    "print(df.head())\n",
    "print(df.describe())\n",
    "print(df.info())"
   ],
   "id": "c68cf9986419f320",
   "outputs": [
    {
     "name": "stdout",
     "output_type": "stream",
     "text": [
      "   ResponseId                      MainBranch                 Age  \\\n",
      "0           1  I am a developer by profession  Under 18 years old   \n",
      "1           2  I am a developer by profession     35-44 years old   \n",
      "2           3  I am a developer by profession     45-54 years old   \n",
      "3           4           I am learning to code     18-24 years old   \n",
      "4           5  I am a developer by profession     18-24 years old   \n",
      "\n",
      "            Employment RemoteWork   Check  \\\n",
      "0  Employed, full-time     Remote  Apples   \n",
      "1  Employed, full-time     Remote  Apples   \n",
      "2  Employed, full-time     Remote  Apples   \n",
      "3   Student, full-time        NaN  Apples   \n",
      "4   Student, full-time        NaN  Apples   \n",
      "\n",
      "                                    CodingActivities  \\\n",
      "0                                              Hobby   \n",
      "1  Hobby;Contribute to open-source projects;Other...   \n",
      "2  Hobby;Contribute to open-source projects;Other...   \n",
      "3                                                NaN   \n",
      "4                                                NaN   \n",
      "\n",
      "                                             EdLevel  \\\n",
      "0                          Primary/elementary school   \n",
      "1       Bachelor’s degree (B.A., B.S., B.Eng., etc.)   \n",
      "2    Master’s degree (M.A., M.S., M.Eng., MBA, etc.)   \n",
      "3  Some college/university study without earning ...   \n",
      "4  Secondary school (e.g. American high school, G...   \n",
      "\n",
      "                                           LearnCode  \\\n",
      "0                             Books / Physical media   \n",
      "1  Books / Physical media;Colleague;On the job tr...   \n",
      "2  Books / Physical media;Colleague;On the job tr...   \n",
      "3  Other online resources (e.g., videos, blogs, f...   \n",
      "4  Other online resources (e.g., videos, blogs, f...   \n",
      "\n",
      "                                     LearnCodeOnline  ... JobSatPoints_6  \\\n",
      "0                                                NaN  ...            NaN   \n",
      "1  Technical documentation;Blogs;Books;Written Tu...  ...            0.0   \n",
      "2  Technical documentation;Blogs;Books;Written Tu...  ...            NaN   \n",
      "3  Stack Overflow;How-to videos;Interactive tutorial  ...            NaN   \n",
      "4  Technical documentation;Blogs;Written Tutorial...  ...            NaN   \n",
      "\n",
      "  JobSatPoints_7 JobSatPoints_8 JobSatPoints_9 JobSatPoints_10  \\\n",
      "0            NaN            NaN            NaN             NaN   \n",
      "1            0.0            0.0            0.0             0.0   \n",
      "2            NaN            NaN            NaN             NaN   \n",
      "3            NaN            NaN            NaN             NaN   \n",
      "4            NaN            NaN            NaN             NaN   \n",
      "\n",
      "  JobSatPoints_11           SurveyLength SurveyEase ConvertedCompYearly JobSat  \n",
      "0             NaN                    NaN        NaN                 NaN    NaN  \n",
      "1             0.0                    NaN        NaN                 NaN    NaN  \n",
      "2             NaN  Appropriate in length       Easy                 NaN    NaN  \n",
      "3             NaN               Too long       Easy                 NaN    NaN  \n",
      "4             NaN              Too short       Easy                 NaN    NaN  \n",
      "\n",
      "[5 rows x 114 columns]\n",
      "         ResponseId      CompTotal       WorkExp  JobSatPoints_1  \\\n",
      "count  65437.000000   3.374000e+04  29658.000000    29324.000000   \n",
      "mean   32719.000000  2.963841e+145     11.466957       18.581094   \n",
      "std    18890.179119  5.444117e+147      9.168709       25.966221   \n",
      "min        1.000000   0.000000e+00      0.000000        0.000000   \n",
      "25%    16360.000000   6.000000e+04      4.000000        0.000000   \n",
      "50%    32719.000000   1.100000e+05      9.000000       10.000000   \n",
      "75%    49078.000000   2.500000e+05     16.000000       22.000000   \n",
      "max    65437.000000  1.000000e+150     50.000000      100.000000   \n",
      "\n",
      "       JobSatPoints_4  JobSatPoints_5  JobSatPoints_6  JobSatPoints_7  \\\n",
      "count    29393.000000    29411.000000    29450.000000     29448.00000   \n",
      "mean         7.522140       10.060857       24.343232        22.96522   \n",
      "std         18.422661       21.833836       27.089360        27.01774   \n",
      "min          0.000000        0.000000        0.000000         0.00000   \n",
      "25%          0.000000        0.000000        0.000000         0.00000   \n",
      "50%          0.000000        0.000000       20.000000        15.00000   \n",
      "75%          5.000000       10.000000       30.000000        30.00000   \n",
      "max        100.000000      100.000000      100.000000       100.00000   \n",
      "\n",
      "       JobSatPoints_8  JobSatPoints_9  JobSatPoints_10  JobSatPoints_11  \\\n",
      "count    29456.000000    29456.000000     29450.000000     29445.000000   \n",
      "mean        20.278165       16.169432        10.955713         9.953948   \n",
      "std         26.108110       24.845032        22.906263        21.775652   \n",
      "min          0.000000        0.000000         0.000000         0.000000   \n",
      "25%          0.000000        0.000000         0.000000         0.000000   \n",
      "50%         10.000000        5.000000         0.000000         0.000000   \n",
      "75%         25.000000       20.000000        10.000000        10.000000   \n",
      "max        100.000000      100.000000       100.000000       100.000000   \n",
      "\n",
      "       ConvertedCompYearly        JobSat  \n",
      "count         2.343500e+04  29126.000000  \n",
      "mean          8.615529e+04      6.935041  \n",
      "std           1.867570e+05      2.088259  \n",
      "min           1.000000e+00      0.000000  \n",
      "25%           3.271200e+04      6.000000  \n",
      "50%           6.500000e+04      7.000000  \n",
      "75%           1.079715e+05      8.000000  \n",
      "max           1.625660e+07     10.000000  \n",
      "<class 'pandas.core.frame.DataFrame'>\n",
      "RangeIndex: 65437 entries, 0 to 65436\n",
      "Columns: 114 entries, ResponseId to JobSat\n",
      "dtypes: float64(13), int64(1), object(100)\n",
      "memory usage: 56.9+ MB\n",
      "None\n"
     ]
    }
   ],
   "execution_count": 55
  },
  {
   "metadata": {},
   "cell_type": "markdown",
   "source": "we can see null values throughout all columns, few columns have filled with  full values.",
   "id": "99d3e04a255ba7a9"
  },
  {
   "metadata": {},
   "cell_type": "markdown",
   "source": "now we will look into the data and see what we can do to clean it up and make it ready for analysis.",
   "id": "31337e624230bc86"
  },
  {
   "metadata": {
    "ExecuteTime": {
     "end_time": "2025-09-30T15:17:43.147743Z",
     "start_time": "2025-09-30T15:17:43.141992Z"
    }
   },
   "cell_type": "code",
   "source": [
    "# start checking..\n",
    "print(df['ResponseId'].head())\n",
    "print(df['ResponseId'].tail())\n",
    "print(df['ResponseId'].isnull().sum()) # no null values\n",
    "\n",
    "# so response_id can be used as index\n",
    "df.set_index('ResponseId', inplace=True) # setting index"
   ],
   "id": "b015f782a9e772f",
   "outputs": [
    {
     "name": "stdout",
     "output_type": "stream",
     "text": [
      "0    1\n",
      "1    2\n",
      "2    3\n",
      "3    4\n",
      "4    5\n",
      "Name: ResponseId, dtype: int64\n",
      "65432    65433\n",
      "65433    65434\n",
      "65434    65435\n",
      "65435    65436\n",
      "65436    65437\n",
      "Name: ResponseId, dtype: int64\n",
      "0\n"
     ]
    }
   ],
   "execution_count": 56
  },
  {
   "metadata": {
    "ExecuteTime": {
     "end_time": "2025-09-30T15:17:43.191042Z",
     "start_time": "2025-09-30T15:17:43.163449Z"
    }
   },
   "cell_type": "code",
   "source": [
    "# start checking..\n",
    "print(df['MainBranch'].head())\n",
    "print(df['MainBranch'].tail())\n",
    "print(df['MainBranch'].isnull().sum()) # 0 null values\n",
    "# create a value mapping for all catagorical data\n",
    "value_maps = {}\n",
    "# main_branch seems like a categorical data, asssign the unique values to the value_maps map to interger\n",
    "\n",
    "value_maps['MainBranch'] = {v: i for i, v in enumerate(df['MainBranch'].dropna().unique())}\n",
    "print(value_maps)\n",
    "# map the values to the main_branch column\n",
    "df['MainBranch'] = df['MainBranch'].map(value_maps['MainBranch'])\n"
   ],
   "id": "7691ecd2af46dfee",
   "outputs": [
    {
     "name": "stdout",
     "output_type": "stream",
     "text": [
      "ResponseId\n",
      "1    I am a developer by profession\n",
      "2    I am a developer by profession\n",
      "3    I am a developer by profession\n",
      "4             I am learning to code\n",
      "5    I am a developer by profession\n",
      "Name: MainBranch, dtype: object\n",
      "ResponseId\n",
      "65433    I am a developer by profession\n",
      "65434    I am a developer by profession\n",
      "65435    I am a developer by profession\n",
      "65436    I am a developer by profession\n",
      "65437       I code primarily as a hobby\n",
      "Name: MainBranch, dtype: object\n",
      "0\n",
      "{'MainBranch': {'I am a developer by profession': 0, 'I am learning to code': 1, 'I code primarily as a hobby': 2, 'I am not primarily a developer, but I write code sometimes as part of my work/studies': 3, 'I used to be a developer by profession, but no longer am': 4}}\n"
     ]
    }
   ],
   "execution_count": 57
  },
  {
   "metadata": {
    "ExecuteTime": {
     "end_time": "2025-09-30T15:17:43.210307Z",
     "start_time": "2025-09-30T15:17:43.205286Z"
    }
   },
   "cell_type": "code",
   "source": [
    "# it seems like a categorical data, let's see the unique values\n",
    "print(df['MainBranch'].value_counts())\n",
    "# ok, its categorical data"
   ],
   "id": "fdfb6bf51861d335",
   "outputs": [
    {
     "name": "stdout",
     "output_type": "stream",
     "text": [
      "MainBranch\n",
      "0    50207\n",
      "3     6511\n",
      "1     3875\n",
      "2     3334\n",
      "4     1510\n",
      "Name: count, dtype: int64\n"
     ]
    }
   ],
   "execution_count": 58
  },
  {
   "metadata": {
    "ExecuteTime": {
     "end_time": "2025-09-30T15:17:43.259101Z",
     "start_time": "2025-09-30T15:17:43.244598Z"
    }
   },
   "cell_type": "code",
   "source": [
    "print(df['Age'].head())\n",
    "print(df['Age'].tail())\n",
    "print(df['Age'].isnull().sum()) # 0 null values\n",
    "\n",
    "# mapping the age column\n",
    "value_maps['Age'] = {v: i for i, v in enumerate(df['Age'].dropna().unique())}\n",
    "df['Age'] = df['Age'].map(value_maps['Age'])\n",
    "# age seems like a categorical data, let's see the unique values\n",
    "print(df['Age'].value_counts())"
   ],
   "id": "1228a9be4c390b2a",
   "outputs": [
    {
     "name": "stdout",
     "output_type": "stream",
     "text": [
      "ResponseId\n",
      "1    Under 18 years old\n",
      "2       35-44 years old\n",
      "3       45-54 years old\n",
      "4       18-24 years old\n",
      "5       18-24 years old\n",
      "Name: Age, dtype: object\n",
      "ResponseId\n",
      "65433    18-24 years old\n",
      "65434    25-34 years old\n",
      "65435    25-34 years old\n",
      "65436    18-24 years old\n",
      "65437    18-24 years old\n",
      "Name: Age, dtype: object\n",
      "0\n",
      "Age\n",
      "4    23911\n",
      "1    14942\n",
      "3    14098\n",
      "2     6249\n",
      "5     2575\n",
      "0     2568\n",
      "7      772\n",
      "6      322\n",
      "Name: count, dtype: int64\n"
     ]
    }
   ],
   "execution_count": 59
  },
  {
   "metadata": {},
   "cell_type": "markdown",
   "source": "age is categorical data, we can keep it as it is. But I assume it represented register age/ working experience, not the actual age of the respondents",
   "id": "884781d052dc6ed7"
  },
  {
   "metadata": {
    "ExecuteTime": {
     "end_time": "2025-09-30T15:17:43.310041Z",
     "start_time": "2025-09-30T15:17:43.288821Z"
    }
   },
   "cell_type": "code",
   "source": [
    "print(df['RemoteWork'].head())\n",
    "print(df['RemoteWork'].tail())\n",
    "print(df['RemoteWork'].isnull().sum())\n",
    "print(df['RemoteWork'].value_counts())\n",
    "# mapping the remote_work column\n",
    "value_maps['RemoteWork'] = {v: i for i, v in enumerate(df['RemoteWork'].dropna().unique())}\n",
    "df['RemoteWork'] = df['RemoteWork'].map(value_maps['RemoteWork'])\n",
    "\n",
    "df['RemoteWork'] = df['RemoteWork'].fillna(0)# filling null values with 0\n",
    "print(df['RemoteWork'].value_counts())"
   ],
   "id": "6dc187e2d8919e9a",
   "outputs": [
    {
     "name": "stdout",
     "output_type": "stream",
     "text": [
      "ResponseId\n",
      "1    Remote\n",
      "2    Remote\n",
      "3    Remote\n",
      "4       NaN\n",
      "5       NaN\n",
      "Name: RemoteWork, dtype: object\n",
      "ResponseId\n",
      "65433                                  Remote\n",
      "65434                                  Remote\n",
      "65435                               In-person\n",
      "65436    Hybrid (some remote, some in-person)\n",
      "65437                                     NaN\n",
      "Name: RemoteWork, dtype: object\n",
      "10631\n",
      "RemoteWork\n",
      "Hybrid (some remote, some in-person)    23015\n",
      "Remote                                  20831\n",
      "In-person                               10960\n",
      "Name: count, dtype: int64\n",
      "RemoteWork\n",
      "0.0    31462\n",
      "2.0    23015\n",
      "1.0    10960\n",
      "Name: count, dtype: int64\n"
     ]
    }
   ],
   "execution_count": 60
  },
  {
   "metadata": {},
   "cell_type": "markdown",
   "source": "remote_work is categorical data, we can keep it as it is. And fill the null values with 0, meaning no remote work/experience",
   "id": "c4d075097ebbae50"
  },
  {
   "metadata": {
    "ExecuteTime": {
     "end_time": "2025-09-30T15:17:43.343752Z",
     "start_time": "2025-09-30T15:17:43.331198Z"
    }
   },
   "cell_type": "code",
   "source": [
    "print(df['EdLevel'].head())\n",
    "print(df['EdLevel'].tail())\n",
    "print(df['EdLevel'].isnull().sum())\n",
    "print(df['EdLevel'].value_counts())\n",
    "# don't know what it is yet, but it seems categorical data, filling null with 0\n",
    "df['EdLevel'] = df['EdLevel'].fillna(0)"
   ],
   "id": "403d54cea50102f7",
   "outputs": [
    {
     "name": "stdout",
     "output_type": "stream",
     "text": [
      "ResponseId\n",
      "1                            Primary/elementary school\n",
      "2         Bachelor’s degree (B.A., B.S., B.Eng., etc.)\n",
      "3      Master’s degree (M.A., M.S., M.Eng., MBA, etc.)\n",
      "4    Some college/university study without earning ...\n",
      "5    Secondary school (e.g. American high school, G...\n",
      "Name: EdLevel, dtype: object\n",
      "ResponseId\n",
      "65433         Bachelor’s degree (B.A., B.S., B.Eng., etc.)\n",
      "65434                                                  NaN\n",
      "65435         Bachelor’s degree (B.A., B.S., B.Eng., etc.)\n",
      "65436    Secondary school (e.g. American high school, G...\n",
      "65437                                                  NaN\n",
      "Name: EdLevel, dtype: object\n",
      "4653\n",
      "EdLevel\n",
      "Bachelor’s degree (B.A., B.S., B.Eng., etc.)                                          24942\n",
      "Master’s degree (M.A., M.S., M.Eng., MBA, etc.)                                       15557\n",
      "Some college/university study without earning a degree                                 7651\n",
      "Secondary school (e.g. American high school, German Realschule or Gymnasium, etc.)     5793\n",
      "Professional degree (JD, MD, Ph.D, Ed.D, etc.)                                         2970\n",
      "Associate degree (A.A., A.S., etc.)                                                    1793\n",
      "Primary/elementary school                                                              1146\n",
      "Something else                                                                          932\n",
      "Name: count, dtype: int64\n"
     ]
    }
   ],
   "execution_count": 61
  },
  {
   "metadata": {
    "ExecuteTime": {
     "end_time": "2025-09-30T15:17:43.571869Z",
     "start_time": "2025-09-30T15:17:43.368468Z"
    }
   },
   "cell_type": "code",
   "source": [
    "print(df['Employment'].head())\n",
    "print(df['Employment'].tail())\n",
    "print(df['Employment'].isnull().sum())\n",
    "print(df['Employment'].value_counts())\n",
    "# mapping the Employment column\n",
    "value_maps['Employment'] = {v: i for i, v in enumerate(df['Employment'].dropna().unique())}\n",
    "df['Employment'] = df['Employment'].map(value_maps['Employment'])\n",
    "df['Employment'] = df['Employment'].fillna(0)\n",
    "# plot distribution of Employment column\n",
    "\n",
    "plt.figure(figsize=(12,6))\n",
    "sns.histplot(df['Employment'], bins=len(df['Employment'].unique())+1, kde=False)\n",
    "plt.title('Employment Distribution')\n",
    "plt.xlabel('Employment')\n",
    "plt.ylabel('Count')\n",
    "plt.show()\n",
    "\n"
   ],
   "id": "1b418fd9a05f7d52",
   "outputs": [
    {
     "name": "stdout",
     "output_type": "stream",
     "text": [
      "ResponseId\n",
      "1    Employed, full-time\n",
      "2    Employed, full-time\n",
      "3    Employed, full-time\n",
      "4     Student, full-time\n",
      "5     Student, full-time\n",
      "Name: Employment, dtype: object\n",
      "ResponseId\n",
      "65433    Employed, full-time\n",
      "65434    Employed, full-time\n",
      "65435    Employed, full-time\n",
      "65436    Employed, full-time\n",
      "65437     Student, full-time\n",
      "Name: Employment, dtype: object\n",
      "0\n",
      "Employment\n",
      "Employed, full-time                                                                                                                                   39041\n",
      "Independent contractor, freelancer, or self-employed                                                                                                   4846\n",
      "Student, full-time                                                                                                                                     4709\n",
      "Employed, full-time;Independent contractor, freelancer, or self-employed                                                                               3557\n",
      "Not employed, but looking for work                                                                                                                     2341\n",
      "                                                                                                                                                      ...  \n",
      "Not employed, but looking for work;Independent contractor, freelancer, or self-employed;Not employed, and not looking for work;Employed, part-time        1\n",
      "Student, full-time;Retired                                                                                                                                1\n",
      "Employed, full-time;Not employed, but looking for work;Student, part-time                                                                                 1\n",
      "Not employed, and not looking for work;Student, part-time;Employed, part-time                                                                             1\n",
      "Not employed, but looking for work;Independent contractor, freelancer, or self-employed;Student, part-time;Retired                                        1\n",
      "Name: count, Length: 110, dtype: int64\n"
     ]
    },
    {
     "data": {
      "text/plain": [
       "<Figure size 1200x600 with 1 Axes>"
      ],
      "image/png": "[encoded data removed]"
     },
     "metadata": {},
     "output_type": "display_data"
    }
   ],
   "execution_count": 62
  },
  {
   "metadata": {},
   "cell_type": "markdown",
   "source": "",
   "id": "2e8c21efb62e099b"
  },
  {
   "metadata": {
    "ExecuteTime": {
     "end_time": "2025-09-30T15:17:43.674990Z",
     "start_time": "2025-09-30T15:17:43.606619Z"
    }
   },
   "cell_type": "code",
   "source": [
    "print(df['years_code'].head())\n",
    "print(df['years_code'].tail())\n",
    "print(df['years_code'].isnull().sum())\n",
    "print(df['years_code'].value_counts())\n",
    "# ok, there are null values, and it seems categorical data, but the coding age range 0~50, we need to dive in deeper\n",
    "#TODO previous 'age' column have higher chance to be a register age\n"
   ],
   "id": "892099598df12429",
   "outputs": [
    {
     "ename": "KeyError",
     "evalue": "'years_code'",
     "output_type": "error",
     "traceback": [
      "\u001B[31m---------------------------------------------------------------------------\u001B[39m",
      "\u001B[31mKeyError\u001B[39m                                  Traceback (most recent call last)",
      "\u001B[36mFile \u001B[39m\u001B[32mE:\\Projects\\AAU_Projects\\.venv\\Lib\\site-packages\\pandas\\core\\indexes\\base.py:3812\u001B[39m, in \u001B[36mIndex.get_loc\u001B[39m\u001B[34m(self, key)\u001B[39m\n\u001B[32m   3811\u001B[39m \u001B[38;5;28;01mtry\u001B[39;00m:\n\u001B[32m-> \u001B[39m\u001B[32m3812\u001B[39m     \u001B[38;5;28;01mreturn\u001B[39;00m \u001B[38;5;28;43mself\u001B[39;49m\u001B[43m.\u001B[49m\u001B[43m_engine\u001B[49m\u001B[43m.\u001B[49m\u001B[43mget_loc\u001B[49m\u001B[43m(\u001B[49m\u001B[43mcasted_key\u001B[49m\u001B[43m)\u001B[49m\n\u001B[32m   3813\u001B[39m \u001B[38;5;28;01mexcept\u001B[39;00m \u001B[38;5;167;01mKeyError\u001B[39;00m \u001B[38;5;28;01mas\u001B[39;00m err:\n",
      "\u001B[36mFile \u001B[39m\u001B[32mpandas/_libs/index.pyx:167\u001B[39m, in \u001B[36mpandas._libs.index.IndexEngine.get_loc\u001B[39m\u001B[34m()\u001B[39m\n",
      "\u001B[36mFile \u001B[39m\u001B[32mpandas/_libs/index.pyx:196\u001B[39m, in \u001B[36mpandas._libs.index.IndexEngine.get_loc\u001B[39m\u001B[34m()\u001B[39m\n",
      "\u001B[36mFile \u001B[39m\u001B[32mpandas/_libs/hashtable_class_helper.pxi:7088\u001B[39m, in \u001B[36mpandas._libs.hashtable.PyObjectHashTable.get_item\u001B[39m\u001B[34m()\u001B[39m\n",
      "\u001B[36mFile \u001B[39m\u001B[32mpandas/_libs/hashtable_class_helper.pxi:7096\u001B[39m, in \u001B[36mpandas._libs.hashtable.PyObjectHashTable.get_item\u001B[39m\u001B[34m()\u001B[39m\n",
      "\u001B[31mKeyError\u001B[39m: 'years_code'",
      "\nThe above exception was the direct cause of the following exception:\n",
      "\u001B[31mKeyError\u001B[39m                                  Traceback (most recent call last)",
      "\u001B[36mCell\u001B[39m\u001B[36m \u001B[39m\u001B[32mIn[63]\u001B[39m\u001B[32m, line 1\u001B[39m\n\u001B[32m----> \u001B[39m\u001B[32m1\u001B[39m \u001B[38;5;28mprint\u001B[39m(\u001B[43mdf\u001B[49m\u001B[43m[\u001B[49m\u001B[33;43m'\u001B[39;49m\u001B[33;43myears_code\u001B[39;49m\u001B[33;43m'\u001B[39;49m\u001B[43m]\u001B[49m.head())\n\u001B[32m      2\u001B[39m \u001B[38;5;28mprint\u001B[39m(df[\u001B[33m'\u001B[39m\u001B[33myears_code\u001B[39m\u001B[33m'\u001B[39m].tail())\n\u001B[32m      3\u001B[39m \u001B[38;5;28mprint\u001B[39m(df[\u001B[33m'\u001B[39m\u001B[33myears_code\u001B[39m\u001B[33m'\u001B[39m].isnull().sum())\n",
      "\u001B[36mFile \u001B[39m\u001B[32mE:\\Projects\\AAU_Projects\\.venv\\Lib\\site-packages\\pandas\\core\\frame.py:4107\u001B[39m, in \u001B[36mDataFrame.__getitem__\u001B[39m\u001B[34m(self, key)\u001B[39m\n\u001B[32m   4105\u001B[39m \u001B[38;5;28;01mif\u001B[39;00m \u001B[38;5;28mself\u001B[39m.columns.nlevels > \u001B[32m1\u001B[39m:\n\u001B[32m   4106\u001B[39m     \u001B[38;5;28;01mreturn\u001B[39;00m \u001B[38;5;28mself\u001B[39m._getitem_multilevel(key)\n\u001B[32m-> \u001B[39m\u001B[32m4107\u001B[39m indexer = \u001B[38;5;28;43mself\u001B[39;49m\u001B[43m.\u001B[49m\u001B[43mcolumns\u001B[49m\u001B[43m.\u001B[49m\u001B[43mget_loc\u001B[49m\u001B[43m(\u001B[49m\u001B[43mkey\u001B[49m\u001B[43m)\u001B[49m\n\u001B[32m   4108\u001B[39m \u001B[38;5;28;01mif\u001B[39;00m is_integer(indexer):\n\u001B[32m   4109\u001B[39m     indexer = [indexer]\n",
      "\u001B[36mFile \u001B[39m\u001B[32mE:\\Projects\\AAU_Projects\\.venv\\Lib\\site-packages\\pandas\\core\\indexes\\base.py:3819\u001B[39m, in \u001B[36mIndex.get_loc\u001B[39m\u001B[34m(self, key)\u001B[39m\n\u001B[32m   3814\u001B[39m     \u001B[38;5;28;01mif\u001B[39;00m \u001B[38;5;28misinstance\u001B[39m(casted_key, \u001B[38;5;28mslice\u001B[39m) \u001B[38;5;129;01mor\u001B[39;00m (\n\u001B[32m   3815\u001B[39m         \u001B[38;5;28misinstance\u001B[39m(casted_key, abc.Iterable)\n\u001B[32m   3816\u001B[39m         \u001B[38;5;129;01mand\u001B[39;00m \u001B[38;5;28many\u001B[39m(\u001B[38;5;28misinstance\u001B[39m(x, \u001B[38;5;28mslice\u001B[39m) \u001B[38;5;28;01mfor\u001B[39;00m x \u001B[38;5;129;01min\u001B[39;00m casted_key)\n\u001B[32m   3817\u001B[39m     ):\n\u001B[32m   3818\u001B[39m         \u001B[38;5;28;01mraise\u001B[39;00m InvalidIndexError(key)\n\u001B[32m-> \u001B[39m\u001B[32m3819\u001B[39m     \u001B[38;5;28;01mraise\u001B[39;00m \u001B[38;5;167;01mKeyError\u001B[39;00m(key) \u001B[38;5;28;01mfrom\u001B[39;00m\u001B[38;5;250m \u001B[39m\u001B[34;01merr\u001B[39;00m\n\u001B[32m   3820\u001B[39m \u001B[38;5;28;01mexcept\u001B[39;00m \u001B[38;5;167;01mTypeError\u001B[39;00m:\n\u001B[32m   3821\u001B[39m     \u001B[38;5;66;03m# If we have a listlike key, _check_indexing_error will raise\u001B[39;00m\n\u001B[32m   3822\u001B[39m     \u001B[38;5;66;03m#  InvalidIndexError. Otherwise we fall through and re-raise\u001B[39;00m\n\u001B[32m   3823\u001B[39m     \u001B[38;5;66;03m#  the TypeError.\u001B[39;00m\n\u001B[32m   3824\u001B[39m     \u001B[38;5;28mself\u001B[39m._check_indexing_error(key)\n",
      "\u001B[31mKeyError\u001B[39m: 'years_code'"
     ]
    }
   ],
   "execution_count": 63
  },
  {
   "metadata": {
    "ExecuteTime": {
     "end_time": "2025-09-30T15:17:43.677998100Z",
     "start_time": "2025-09-30T13:35:55.288914Z"
    }
   },
   "cell_type": "code",
   "source": [
    "\n",
    "# plot the years_code value distribution, filled the null values with -1\n",
    "year_code_origin = df['years_code'].copy()\n",
    "df['years_code'] = df['years_code'].fillna(-1)\n",
    "plt.figure(figsize=(12,6))\n",
    "sns.histplot(df['years_code'], bins=51, kde=False)\n",
    "plt.title('Years of Coding Experience Distribution')\n",
    "plt.xlabel('Years of Coding Experience')\n",
    "plt.ylabel('Count')\n",
    "plt.show()"
   ],
   "id": "9d38628d77d98a4a",
   "outputs": [
    {
     "data": {
      "text/plain": [
       "<Figure size 1200x600 with 1 Axes>"
      ],
      "image/png": "[encoded data removed]"
     },
     "metadata": {},
     "output_type": "display_data"
    }
   ],
   "execution_count": 9
  },
  {
   "metadata": {},
   "cell_type": "markdown",
   "source": "1The distribution is right-skewed, with a significant number of respondents having less than 10 years of coding experience. There are also noticeable peaks at 10, 20, 30, 40, 50, which might indicate that some respondents rounded their experience to the nearest decade. The presence of a peak at -1 indicates that there are respondents who did not provide their years of coding experience.",
   "id": "ffc55fa70892ea12"
  },
  {
   "metadata": {
    "ExecuteTime": {
     "end_time": "2025-09-30T15:17:43.687249200Z",
     "start_time": "2025-09-30T13:50:16.640773Z"
    }
   },
   "cell_type": "code",
   "source": [
    "print(df['years_code_pro'].head())\n",
    "print(df['years_code_pro'].tail())\n",
    "print(df['years_code_pro'].isnull().sum())\n",
    "print(df['years_code_pro'].value_counts())\n",
    "\n",
    "# ok, there are null values, and it seems categorical data\n",
    "years_code_pro_origin = df['years_code_pro'].copy()\n",
    "df['years_code_pro'] = df['years_code_pro'].fillna(-1)\n",
    "# plot the years_code_pro value distribution, filled the null values with -1\n",
    "plt.figure(figsize=(12,6))\n",
    "sns.histplot(df['years_code_pro'], bins=52, kde=False)\n",
    "plt.title('Years of Professional Coding Experience Distribution')\n",
    "plt.xlabel('Years of Professional Coding Experience')\n"
   ],
   "id": "be9d2fb2a21a8984",
   "outputs": [
    {
     "name": "stdout",
     "output_type": "stream",
     "text": [
      "response_id\n",
      "1     NaN\n",
      "2    17.0\n",
      "3    27.0\n",
      "4     NaN\n",
      "5     NaN\n",
      "Name: years_code_pro, dtype: float64\n",
      "response_id\n",
      "65433    3.0\n",
      "65434    NaN\n",
      "65435    5.0\n",
      "65436    2.0\n",
      "65437    NaN\n",
      "Name: years_code_pro, dtype: float64\n",
      "13827\n",
      "years_code_pro\n",
      "2.0     4168\n",
      "3.0     4093\n",
      "5.0     3526\n",
      "10.0    3251\n",
      "4.0     3215\n",
      "0.0     2856\n",
      "6.0     2843\n",
      "1.0     2639\n",
      "8.0     2549\n",
      "7.0     2517\n",
      "12.0    1777\n",
      "15.0    1635\n",
      "20.0    1549\n",
      "9.0     1493\n",
      "11.0    1312\n",
      "13.0    1127\n",
      "14.0    1082\n",
      "25.0     998\n",
      "16.0     946\n",
      "18.0     867\n",
      "17.0     814\n",
      "30.0     689\n",
      "24.0     632\n",
      "19.0     516\n",
      "22.0     492\n",
      "23.0     448\n",
      "26.0     426\n",
      "27.0     380\n",
      "21.0     380\n",
      "28.0     342\n",
      "35.0     285\n",
      "29.0     196\n",
      "40.0     194\n",
      "32.0     194\n",
      "34.0     169\n",
      "38.0     134\n",
      "33.0     132\n",
      "36.0     119\n",
      "31.0     106\n",
      "37.0     104\n",
      "45.0      56\n",
      "42.0      55\n",
      "39.0      54\n",
      "41.0      51\n",
      "51.0      50\n",
      "44.0      42\n",
      "43.0      37\n",
      "46.0      21\n",
      "50.0      14\n",
      "48.0      14\n",
      "49.0      11\n",
      "47.0      10\n",
      "Name: count, dtype: int64\n"
     ]
    },
    {
     "data": {
      "text/plain": [
       "Text(0.5, 0, 'Years of Professional Coding Experience')"
      ]
     },
     "execution_count": 11,
     "metadata": {},
     "output_type": "execute_result"
    },
    {
     "data": {
      "text/plain": [
       "<Figure size 1200x600 with 1 Axes>"
      ],
      "image/png": "[encoded data removed]"
     },
     "metadata": {},
     "output_type": "display_data"
    }
   ],
   "execution_count": 11
  },
  {
   "metadata": {
    "ExecuteTime": {
     "end_time": "2025-09-30T15:17:43.687249200Z",
     "start_time": "2025-09-30T13:51:55.167279Z"
    }
   },
   "cell_type": "code",
   "source": [
    "print(df['dev_type'].head())\n",
    "print(df['dev_type'].tail())\n",
    "print(df['dev_type'].isnull().sum())\n",
    "print(df['dev_type'].value_counts())\n",
    "\n",
    "# fillna with 0\n",
    "df['dev_type'] = df['dev_type'].fillna(0)\n",
    "# plot the dev_type value distribution\n",
    "plt.figure(figsize=(12,6))\n",
    "sns.histplot(df['dev_type'], bins=50, kde=False)\n",
    "plt.title('Developer Type Distribution')\n",
    "plt.xlabel('Developer Type')\n",
    "plt.ylabel('Count')\n",
    "plt.show()\n"
   ],
   "id": "a2fc5a1ada8fca48",
   "outputs": [
    {
     "name": "stdout",
     "output_type": "stream",
     "text": [
      "response_id\n",
      "1     NaN\n",
      "2    16.0\n",
      "3    10.0\n",
      "4    16.0\n",
      "5    16.0\n",
      "Name: dev_type, dtype: float64\n",
      "response_id\n",
      "65433     2.0\n",
      "65434     NaN\n",
      "65435    18.0\n",
      "65436    12.0\n",
      "65437     NaN\n",
      "Name: dev_type, dtype: float64\n",
      "5992\n",
      "dev_type\n",
      "16.0    18260\n",
      "12.0     9928\n",
      "33.0     5102\n",
      "15.0     3349\n",
      "13.0     2493\n",
      "26.0     2458\n",
      "18.0     2021\n",
      "14.0     1623\n",
      "23.0     1275\n",
      "1.0      1238\n",
      "4.0      1118\n",
      "6.0      1024\n",
      "20.0     1019\n",
      "29.0      943\n",
      "32.0      837\n",
      "17.0      706\n",
      "3.0       634\n",
      "34.0      552\n",
      "11.0      543\n",
      "19.0      525\n",
      "5.0       523\n",
      "28.0      418\n",
      "31.0      356\n",
      "21.0      355\n",
      "30.0      332\n",
      "22.0      310\n",
      "27.0      290\n",
      "2.0       235\n",
      "10.0      224\n",
      "24.0      200\n",
      "8.0       182\n",
      "7.0       171\n",
      "9.0       105\n",
      "25.0       96\n",
      "Name: count, dtype: int64\n"
     ]
    },
    {
     "data": {
      "text/plain": [
       "<Figure size 1200x600 with 1 Axes>"
      ],
      "image/png": "[encoded data removed]"
     },
     "metadata": {},
     "output_type": "display_data"
    }
   ],
   "execution_count": 13
  },
  {
   "metadata": {
    "ExecuteTime": {
     "end_time": "2025-09-30T15:17:43.687249200Z",
     "start_time": "2025-09-30T14:46:41.642789Z"
    }
   },
   "cell_type": "code",
   "source": [
    "print(df['org_size'].head())\n",
    "print(df['org_size'].tail())\n",
    "print(df['org_size'].isnull().sum())\n",
    "print(df['org_size'].value_counts())\n",
    "\n",
    "# fillna with 0\n",
    "df['org_size'] = df['org_size'].fillna(0)\n",
    "# plot the org_size value distribution\n",
    "plt.figure(figsize=(12,6))\n",
    "sns.histplot(df['org_size'], bins=len(df['org_size'].unique()+1), kde=False)\n",
    "plt.title('Organization Size Distribution')\n",
    "plt.xlabel('Organization Size')\n",
    "plt.ylabel('Count')\n",
    "plt.show()\n"
   ],
   "id": "7ee137cea177c849",
   "outputs": [
    {
     "name": "stdout",
     "output_type": "stream",
     "text": [
      "response_id\n",
      "1    0.0\n",
      "2    0.0\n",
      "3    0.0\n",
      "4    0.0\n",
      "5    0.0\n",
      "Name: org_size, dtype: float64\n",
      "response_id\n",
      "65433    5.0\n",
      "65434    0.0\n",
      "65435    1.0\n",
      "65436    6.0\n",
      "65437    0.0\n",
      "Name: org_size, dtype: float64\n",
      "0\n",
      "org_size\n",
      "0.0     17957\n",
      "6.0      9754\n",
      "4.0      8694\n",
      "3.0      5558\n",
      "1.0      5353\n",
      "5.0      4833\n",
      "2.0      4084\n",
      "8.0      3183\n",
      "10.0     3086\n",
      "7.0      1867\n",
      "9.0      1068\n",
      "Name: count, dtype: int64\n"
     ]
    },
    {
     "data": {
      "text/plain": [
       "<Figure size 1200x600 with 1 Axes>"
      ],
      "image/png": "[encoded data removed]"
     },
     "metadata": {},
     "output_type": "display_data"
    }
   ],
   "execution_count": 17
  },
  {
   "metadata": {},
   "cell_type": "code",
   "outputs": [],
   "execution_count": null,
   "source": "",
   "id": "e2e9bb28961e0f35"
  }
 ],
 "metadata": {},
 "nbformat": 4,
 "nbformat_minor": 5
}
