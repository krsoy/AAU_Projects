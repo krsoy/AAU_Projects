{
 "cells": [
  {
   "metadata": {
    "ExecuteTime": {
     "end_time": "2025-09-30T13:35:54.715139Z",
     "start_time": "2025-09-30T13:35:53.384365Z"
    }
   },
   "cell_type": "code",
   "source": [
    "# load pandas and read the csv file from the url\n",
    "import pandas as pd\n",
    "# I don't know why it takes so long to load the data\n",
    "df = pd.read_csv('https://raw.githubusercontent.com/rfordatascience/tidytuesday/main/data/2024/2024-09-03/stackoverflow_survey_single_response.csv')\n",
    "\n",
    "# let's take a look at the data\n",
    "print(df.head())\n",
    "print(df.describe())\n",
    "print(df.info())"
   ],
   "id": "c68cf9986419f320",
   "outputs": [
    {
     "name": "stdout",
     "output_type": "stream",
     "text": [
      "   response_id  main_branch  age  remote_work  ed_level  years_code  \\\n",
      "0            1            1    8          3.0       4.0         NaN   \n",
      "1            2            1    3          3.0       2.0        20.0   \n",
      "2            3            1    4          3.0       3.0        37.0   \n",
      "3            4            2    1          NaN       7.0         4.0   \n",
      "4            5            1    1          NaN       6.0         9.0   \n",
      "\n",
      "   years_code_pro  dev_type  org_size  purchase_influence  ...  ai_select  \\\n",
      "0             NaN       NaN       NaN                 NaN  ...        3.0   \n",
      "1            17.0      16.0       NaN                 NaN  ...        1.0   \n",
      "2            27.0      10.0       NaN                 NaN  ...        1.0   \n",
      "3             NaN      16.0       NaN                 NaN  ...        3.0   \n",
      "4             NaN      16.0       NaN                 NaN  ...        1.0   \n",
      "\n",
      "  ai_sent ai_acc  ai_complex  ai_threat  survey_length  survey_ease  \\\n",
      "0     5.0    NaN         NaN        NaN            NaN          NaN   \n",
      "1     NaN    NaN         NaN        NaN            NaN          NaN   \n",
      "2     NaN    NaN         NaN        NaN            1.0          2.0   \n",
      "3     5.0    5.0         1.0        2.0            2.0          2.0   \n",
      "4     NaN    NaN         NaN        NaN            3.0          2.0   \n",
      "\n",
      "   converted_comp_yearly  r_used  r_want_to_use  \n",
      "0                    NaN     NaN            NaN  \n",
      "1                    NaN     0.0            0.0  \n",
      "2                    NaN     0.0            0.0  \n",
      "3                    NaN     0.0            0.0  \n",
      "4                    NaN     0.0            0.0  \n",
      "\n",
      "[5 rows x 28 columns]\n",
      "        response_id   main_branch           age   remote_work      ed_level  \\\n",
      "count  65437.000000  65437.000000  65437.000000  54806.000000  60784.000000   \n",
      "mean   32719.000000      1.503370      2.629201      1.960150      3.513309   \n",
      "std    18890.179119      1.015683      1.583867      0.893559      1.932414   \n",
      "min        1.000000      1.000000      1.000000      1.000000      1.000000   \n",
      "25%    16360.000000      1.000000      2.000000      1.000000      2.000000   \n",
      "50%    32719.000000      1.000000      2.000000      2.000000      3.000000   \n",
      "75%    49078.000000      1.000000      3.000000      3.000000      5.000000   \n",
      "max    65437.000000      5.000000      8.000000      3.000000      8.000000   \n",
      "\n",
      "         years_code  years_code_pro      dev_type      org_size  \\\n",
      "count  59869.000000    51610.000000  59445.000000  47480.000000   \n",
      "mean      14.197498       10.184344     17.168004      4.773905   \n",
      "std       10.655427        9.109703      7.746213      2.475729   \n",
      "min        0.000000        0.000000      1.000000      1.000000   \n",
      "25%        6.000000        3.000000     12.000000      3.000000   \n",
      "50%       11.000000        7.000000     16.000000      5.000000   \n",
      "75%       20.000000       15.000000     19.000000      6.000000   \n",
      "max       51.000000       51.000000     34.000000     10.000000   \n",
      "\n",
      "       purchase_influence  ...     ai_select       ai_sent        ai_acc  \\\n",
      "count        47406.000000  ...  60907.000000  45873.000000  37302.000000   \n",
      "mean             2.188373  ...      2.374752      2.385761      3.846952   \n",
      "std              0.765541  ...      0.849427      1.681352      1.209167   \n",
      "min              1.000000  ...      1.000000      1.000000      1.000000   \n",
      "25%              2.000000  ...      2.000000      1.000000      3.000000   \n",
      "50%              2.000000  ...      3.000000      2.000000      4.000000   \n",
      "75%              3.000000  ...      3.000000      4.000000      5.000000   \n",
      "max              3.000000  ...      3.000000      6.000000      5.000000   \n",
      "\n",
      "         ai_complex     ai_threat  survey_length   survey_ease  \\\n",
      "count  37021.000000  44689.000000   56182.000000  56238.000000   \n",
      "mean       2.232247      1.921905       1.326154      2.408887   \n",
      "std        1.113339      0.559586       0.502137      0.545992   \n",
      "min        1.000000      1.000000       1.000000      1.000000   \n",
      "25%        1.000000      2.000000       1.000000      2.000000   \n",
      "50%        2.000000      2.000000       1.000000      2.000000   \n",
      "75%        3.000000      2.000000       2.000000      3.000000   \n",
      "max        5.000000      3.000000       3.000000      3.000000   \n",
      "\n",
      "       converted_comp_yearly        r_used  r_want_to_use  \n",
      "count           2.343500e+04  59745.000000   55752.000000  \n",
      "mean            8.615529e+04      0.043435       0.039048  \n",
      "std             1.867570e+05      0.203835       0.193711  \n",
      "min             1.000000e+00      0.000000       0.000000  \n",
      "25%             3.271200e+04      0.000000       0.000000  \n",
      "50%             6.500000e+04      0.000000       0.000000  \n",
      "75%             1.079715e+05      0.000000       0.000000  \n",
      "max             1.625660e+07      1.000000       1.000000  \n",
      "\n",
      "[8 rows x 26 columns]\n",
      "<class 'pandas.core.frame.DataFrame'>\n",
      "RangeIndex: 65437 entries, 0 to 65436\n",
      "Data columns (total 28 columns):\n",
      " #   Column                 Non-Null Count  Dtype  \n",
      "---  ------                 --------------  -----  \n",
      " 0   response_id            65437 non-null  int64  \n",
      " 1   main_branch            65437 non-null  int64  \n",
      " 2   age                    65437 non-null  int64  \n",
      " 3   remote_work            54806 non-null  float64\n",
      " 4   ed_level               60784 non-null  float64\n",
      " 5   years_code             59869 non-null  float64\n",
      " 6   years_code_pro         51610 non-null  float64\n",
      " 7   dev_type               59445 non-null  float64\n",
      " 8   org_size               47480 non-null  float64\n",
      " 9   purchase_influence     47406 non-null  float64\n",
      " 10  buildvs_buy            43358 non-null  float64\n",
      " 11  country                58930 non-null  object \n",
      " 12  currency               46684 non-null  object \n",
      " 13  comp_total             33740 non-null  float64\n",
      " 14  so_visit_freq          59536 non-null  float64\n",
      " 15  so_account             59560 non-null  float64\n",
      " 16  so_part_freq           45237 non-null  float64\n",
      " 17  so_comm                59163 non-null  float64\n",
      " 18  ai_select              60907 non-null  float64\n",
      " 19  ai_sent                45873 non-null  float64\n",
      " 20  ai_acc                 37302 non-null  float64\n",
      " 21  ai_complex             37021 non-null  float64\n",
      " 22  ai_threat              44689 non-null  float64\n",
      " 23  survey_length          56182 non-null  float64\n",
      " 24  survey_ease            56238 non-null  float64\n",
      " 25  converted_comp_yearly  23435 non-null  float64\n",
      " 26  r_used                 59745 non-null  float64\n",
      " 27  r_want_to_use          55752 non-null  float64\n",
      "dtypes: float64(23), int64(3), object(2)\n",
      "memory usage: 14.0+ MB\n",
      "None\n"
     ]
    }
   ],
   "execution_count": 1
  },
  {
   "metadata": {},
   "cell_type": "markdown",
   "source": "we can see null values throughout all columns, few columns have filled with  full values.",
   "id": "99d3e04a255ba7a9"
  },
  {
   "metadata": {},
   "cell_type": "markdown",
   "source": "now we will look into the data and see what we can do to clean it up and make it ready for analysis.",
   "id": "31337e624230bc86"
  },
  {
   "metadata": {
    "ExecuteTime": {
     "end_time": "2025-09-30T13:35:54.736049Z",
     "start_time": "2025-09-30T13:35:54.729865Z"
    }
   },
   "cell_type": "code",
   "source": [
    "# start checking..\n",
    "print(df['response_id'].head())\n",
    "print(df['response_id'].tail())\n",
    "print(df['response_id'].isnull().sum()) # no null values\n",
    "\n",
    "# so response_id can be used as index\n",
    "df.set_index('response_id', inplace=True) # setting index"
   ],
   "id": "b015f782a9e772f",
   "outputs": [
    {
     "name": "stdout",
     "output_type": "stream",
     "text": [
      "0    1\n",
      "1    2\n",
      "2    3\n",
      "3    4\n",
      "4    5\n",
      "Name: response_id, dtype: int64\n",
      "65432    65433\n",
      "65433    65434\n",
      "65434    65435\n",
      "65435    65436\n",
      "65436    65437\n",
      "Name: response_id, dtype: int64\n",
      "0\n"
     ]
    }
   ],
   "execution_count": 2
  },
  {
   "metadata": {
    "ExecuteTime": {
     "end_time": "2025-09-30T13:35:54.888585Z",
     "start_time": "2025-09-30T13:35:54.883690Z"
    }
   },
   "cell_type": "code",
   "source": [
    "# start checking..\n",
    "print(df['main_branch'].head())\n",
    "print(df['main_branch'].tail())\n",
    "print(df['main_branch'].isnull().sum()) # 0 null values"
   ],
   "id": "7691ecd2af46dfee",
   "outputs": [
    {
     "name": "stdout",
     "output_type": "stream",
     "text": [
      "response_id\n",
      "1    1\n",
      "2    1\n",
      "3    1\n",
      "4    2\n",
      "5    1\n",
      "Name: main_branch, dtype: int64\n",
      "response_id\n",
      "65433    1\n",
      "65434    1\n",
      "65435    1\n",
      "65436    1\n",
      "65437    4\n",
      "Name: main_branch, dtype: int64\n",
      "0\n"
     ]
    }
   ],
   "execution_count": 3
  },
  {
   "metadata": {
    "ExecuteTime": {
     "end_time": "2025-09-30T13:35:54.909322Z",
     "start_time": "2025-09-30T13:35:54.903808Z"
    }
   },
   "cell_type": "code",
   "source": [
    "# it seems like a categorical data, let's see the unique values\n",
    "print(df['main_branch'].value_counts())\n",
    "# ok, its categorical data"
   ],
   "id": "fdfb6bf51861d335",
   "outputs": [
    {
     "name": "stdout",
     "output_type": "stream",
     "text": [
      "main_branch\n",
      "1    50207\n",
      "3     6511\n",
      "2     3875\n",
      "4     3334\n",
      "5     1510\n",
      "Name: count, dtype: int64\n"
     ]
    }
   ],
   "execution_count": 4
  },
  {
   "metadata": {
    "ExecuteTime": {
     "end_time": "2025-09-30T13:35:55.015789Z",
     "start_time": "2025-09-30T13:35:55.010266Z"
    }
   },
   "cell_type": "code",
   "source": [
    "print(df['age'].head())\n",
    "print(df['age'].tail())\n",
    "print(df['age'].isnull().sum()) # 0 null values\n",
    "\n",
    "# age seems like a categorical data, let's see the unique values\n",
    "print(df['age'].value_counts())"
   ],
   "id": "1228a9be4c390b2a",
   "outputs": [
    {
     "name": "stdout",
     "output_type": "stream",
     "text": [
      "response_id\n",
      "1    8\n",
      "2    3\n",
      "3    4\n",
      "4    1\n",
      "5    1\n",
      "Name: age, dtype: int64\n",
      "response_id\n",
      "65433    1\n",
      "65434    2\n",
      "65435    2\n",
      "65436    1\n",
      "65437    1\n",
      "Name: age, dtype: int64\n",
      "0\n",
      "age\n",
      "2    23911\n",
      "3    14942\n",
      "1    14098\n",
      "4     6249\n",
      "5     2575\n",
      "8     2568\n",
      "6      772\n",
      "7      322\n",
      "Name: count, dtype: int64\n"
     ]
    }
   ],
   "execution_count": 5
  },
  {
   "metadata": {},
   "cell_type": "markdown",
   "source": "age is categorical data, we can keep it as it is. But I assume it represented register age/ working experience, not the actual age of the respondents",
   "id": "884781d052dc6ed7"
  },
  {
   "metadata": {
    "ExecuteTime": {
     "end_time": "2025-09-30T13:35:55.096676Z",
     "start_time": "2025-09-30T13:35:55.087355Z"
    }
   },
   "cell_type": "code",
   "source": [
    "print(df['remote_work'].head())\n",
    "print(df['remote_work'].tail())\n",
    "print(df['remote_work'].isnull().sum())\n",
    "print(df['remote_work'].value_counts())# 0 null values\n",
    "df['remote_work'] = df['remote_work'].fillna(0)# filling null values with 0\n",
    "print(df['remote_work'].value_counts())"
   ],
   "id": "6dc187e2d8919e9a",
   "outputs": [
    {
     "name": "stdout",
     "output_type": "stream",
     "text": [
      "response_id\n",
      "1    3.0\n",
      "2    3.0\n",
      "3    3.0\n",
      "4    NaN\n",
      "5    NaN\n",
      "Name: remote_work, dtype: float64\n",
      "response_id\n",
      "65433    3.0\n",
      "65434    3.0\n",
      "65435    2.0\n",
      "65436    1.0\n",
      "65437    NaN\n",
      "Name: remote_work, dtype: float64\n",
      "10631\n",
      "remote_work\n",
      "1.0    23015\n",
      "3.0    20831\n",
      "2.0    10960\n",
      "Name: count, dtype: int64\n",
      "remote_work\n",
      "1.0    23015\n",
      "3.0    20831\n",
      "2.0    10960\n",
      "0.0    10631\n",
      "Name: count, dtype: int64\n"
     ]
    }
   ],
   "execution_count": 6
  },
  {
   "metadata": {},
   "cell_type": "markdown",
   "source": "remote_work is categorical data, we can keep it as it is. And fill the null values with 0, meaning no remote work/experience",
   "id": "c4d075097ebbae50"
  },
  {
   "metadata": {
    "ExecuteTime": {
     "end_time": "2025-09-30T13:35:55.160268Z",
     "start_time": "2025-09-30T13:35:55.151229Z"
    }
   },
   "cell_type": "code",
   "source": [
    "print(df['ed_level'].head())\n",
    "print(df['ed_level'].tail())\n",
    "print(df['ed_level'].isnull().sum())\n",
    "print(df['ed_level'].value_counts())\n",
    "# don't know what it is yet, but it seems categorical data, filling null with 0\n",
    "df['ed_level'] = df['ed_level'].fillna(0)"
   ],
   "id": "403d54cea50102f7",
   "outputs": [
    {
     "name": "stdout",
     "output_type": "stream",
     "text": [
      "response_id\n",
      "1    4.0\n",
      "2    2.0\n",
      "3    3.0\n",
      "4    7.0\n",
      "5    6.0\n",
      "Name: ed_level, dtype: float64\n",
      "response_id\n",
      "65433    2.0\n",
      "65434    NaN\n",
      "65435    2.0\n",
      "65436    6.0\n",
      "65437    NaN\n",
      "Name: ed_level, dtype: float64\n",
      "4653\n",
      "ed_level\n",
      "2.0    24942\n",
      "3.0    15557\n",
      "7.0     7651\n",
      "6.0     5793\n",
      "5.0     2970\n",
      "1.0     1793\n",
      "4.0     1146\n",
      "8.0      932\n",
      "Name: count, dtype: int64\n"
     ]
    }
   ],
   "execution_count": 7
  },
  {
   "metadata": {
    "ExecuteTime": {
     "end_time": "2025-09-30T13:35:55.222591Z",
     "start_time": "2025-09-30T13:35:55.214354Z"
    }
   },
   "cell_type": "code",
   "source": [
    "print(df['years_code'].head())\n",
    "print(df['years_code'].tail())\n",
    "print(df['years_code'].isnull().sum())\n",
    "print(df['years_code'].value_counts())\n",
    "# ok, there are null values, and it seems categorical data, but the coding age range 0~50, we need to dive in deeper\n",
    "#TODO previous 'age' column have higher chance to be a register age\n"
   ],
   "id": "892099598df12429",
   "outputs": [
    {
     "name": "stdout",
     "output_type": "stream",
     "text": [
      "response_id\n",
      "1     NaN\n",
      "2    20.0\n",
      "3    37.0\n",
      "4     4.0\n",
      "5     9.0\n",
      "Name: years_code, dtype: float64\n",
      "response_id\n",
      "65433    5.0\n",
      "65434    NaN\n",
      "65435    9.0\n",
      "65436    5.0\n",
      "65437    NaN\n",
      "Name: years_code, dtype: float64\n",
      "5568\n",
      "years_code\n",
      "10.0    4561\n",
      "5.0     3723\n",
      "6.0     3496\n",
      "8.0     3449\n",
      "7.0     3333\n",
      "4.0     3290\n",
      "15.0    2813\n",
      "20.0    2636\n",
      "12.0    2559\n",
      "3.0     2518\n",
      "9.0     2251\n",
      "14.0    1822\n",
      "25.0    1671\n",
      "2.0     1642\n",
      "11.0    1636\n",
      "13.0    1477\n",
      "30.0    1461\n",
      "16.0    1401\n",
      "18.0    1228\n",
      "17.0    1038\n",
      "40.0     993\n",
      "24.0     870\n",
      "22.0     842\n",
      "35.0     735\n",
      "1.0      712\n",
      "23.0     634\n",
      "26.0     630\n",
      "0.0      569\n",
      "19.0     561\n",
      "21.0     522\n",
      "28.0     512\n",
      "27.0     504\n",
      "32.0     328\n",
      "34.0     293\n",
      "42.0     289\n",
      "38.0     285\n",
      "29.0     274\n",
      "45.0     257\n",
      "51.0     254\n",
      "36.0     223\n",
      "33.0     219\n",
      "37.0     216\n",
      "44.0     195\n",
      "43.0     173\n",
      "41.0     147\n",
      "31.0     146\n",
      "39.0     145\n",
      "46.0      98\n",
      "50.0      77\n",
      "48.0      64\n",
      "47.0      63\n",
      "49.0      34\n",
      "Name: count, dtype: int64\n"
     ]
    }
   ],
   "execution_count": 8
  },
  {
   "metadata": {
    "ExecuteTime": {
     "end_time": "2025-09-30T13:35:55.488431Z",
     "start_time": "2025-09-30T13:35:55.288914Z"
    }
   },
   "cell_type": "code",
   "source": [
    "import matplotlib.pyplot as plt\n",
    "import seaborn as sns\n",
    "# plot the years_code value distribution, filled the null values with -1\n",
    "year_code_origin = df['years_code'].copy()\n",
    "df['years_code'] = df['years_code'].fillna(-1)\n",
    "plt.figure(figsize=(12,6))\n",
    "sns.histplot(df['years_code'], bins=51, kde=False)\n",
    "plt.title('Years of Coding Experience Distribution')\n",
    "plt.xlabel('Years of Coding Experience')\n",
    "plt.ylabel('Count')\n",
    "plt.show()"
   ],
   "id": "9d38628d77d98a4a",
   "outputs": [
    {
     "data": {
      "text/plain": [
       "<Figure size 1200x600 with 1 Axes>"
      ],
      "image/png": "[encoded data removed]"
     },
     "metadata": {},
     "output_type": "display_data"
    }
   ],
   "execution_count": 9
  },
  {
   "metadata": {},
   "cell_type": "markdown",
   "source": "1The distribution is right-skewed, with a significant number of respondents having less than 10 years of coding experience. There are also noticeable peaks at 10, 20, 30, 40, 50, which might indicate that some respondents rounded their experience to the nearest decade. The presence of a peak at -1 indicates that there are respondents who did not provide their years of coding experience.",
   "id": "ffc55fa70892ea12"
  },
  {
   "metadata": {
    "ExecuteTime": {
     "end_time": "2025-09-30T13:50:16.832905Z",
     "start_time": "2025-09-30T13:50:16.640773Z"
    }
   },
   "cell_type": "code",
   "source": [
    "print(df['years_code_pro'].head())\n",
    "print(df['years_code_pro'].tail())\n",
    "print(df['years_code_pro'].isnull().sum())\n",
    "print(df['years_code_pro'].value_counts())\n",
    "\n",
    "# ok, there are null values, and it seems categorical data\n",
    "years_code_pro_origin = df['years_code_pro'].copy()\n",
    "df['years_code_pro'] = df['years_code_pro'].fillna(-1)\n",
    "# plot the years_code_pro value distribution, filled the null values with -1\n",
    "plt.figure(figsize=(12,6))\n",
    "sns.histplot(df['years_code_pro'], bins=52, kde=False)\n",
    "plt.title('Years of Professional Coding Experience Distribution')\n",
    "plt.xlabel('Years of Professional Coding Experience')\n"
   ],
   "id": "be9d2fb2a21a8984",
   "outputs": [
    {
     "name": "stdout",
     "output_type": "stream",
     "text": [
      "response_id\n",
      "1     NaN\n",
      "2    17.0\n",
      "3    27.0\n",
      "4     NaN\n",
      "5     NaN\n",
      "Name: years_code_pro, dtype: float64\n",
      "response_id\n",
      "65433    3.0\n",
      "65434    NaN\n",
      "65435    5.0\n",
      "65436    2.0\n",
      "65437    NaN\n",
      "Name: years_code_pro, dtype: float64\n",
      "13827\n",
      "years_code_pro\n",
      "2.0     4168\n",
      "3.0     4093\n",
      "5.0     3526\n",
      "10.0    3251\n",
      "4.0     3215\n",
      "0.0     2856\n",
      "6.0     2843\n",
      "1.0     2639\n",
      "8.0     2549\n",
      "7.0     2517\n",
      "12.0    1777\n",
      "15.0    1635\n",
      "20.0    1549\n",
      "9.0     1493\n",
      "11.0    1312\n",
      "13.0    1127\n",
      "14.0    1082\n",
      "25.0     998\n",
      "16.0     946\n",
      "18.0     867\n",
      "17.0     814\n",
      "30.0     689\n",
      "24.0     632\n",
      "19.0     516\n",
      "22.0     492\n",
      "23.0     448\n",
      "26.0     426\n",
      "27.0     380\n",
      "21.0     380\n",
      "28.0     342\n",
      "35.0     285\n",
      "29.0     196\n",
      "40.0     194\n",
      "32.0     194\n",
      "34.0     169\n",
      "38.0     134\n",
      "33.0     132\n",
      "36.0     119\n",
      "31.0     106\n",
      "37.0     104\n",
      "45.0      56\n",
      "42.0      55\n",
      "39.0      54\n",
      "41.0      51\n",
      "51.0      50\n",
      "44.0      42\n",
      "43.0      37\n",
      "46.0      21\n",
      "50.0      14\n",
      "48.0      14\n",
      "49.0      11\n",
      "47.0      10\n",
      "Name: count, dtype: int64\n"
     ]
    },
    {
     "data": {
      "text/plain": [
       "Text(0.5, 0, 'Years of Professional Coding Experience')"
      ]
     },
     "execution_count": 11,
     "metadata": {},
     "output_type": "execute_result"
    },
    {
     "data": {
      "text/plain": [
       "<Figure size 1200x600 with 1 Axes>"
      ],
      "image/png": "[encoded data removed]"
     },
     "metadata": {},
     "output_type": "display_data"
    }
   ],
   "execution_count": 11
  },
  {
   "metadata": {
    "ExecuteTime": {
     "end_time": "2025-09-30T13:51:55.321932Z",
     "start_time": "2025-09-30T13:51:55.167279Z"
    }
   },
   "cell_type": "code",
   "source": [
    "print(df['dev_type'].head())\n",
    "print(df['dev_type'].tail())\n",
    "print(df['dev_type'].isnull().sum())\n",
    "print(df['dev_type'].value_counts())\n",
    "\n",
    "# fillna with 0\n",
    "df['dev_type'] = df['dev_type'].fillna(0)\n",
    "# plot the dev_type value distribution\n",
    "plt.figure(figsize=(12,6))\n",
    "sns.histplot(df['dev_type'], bins=50, kde=False)\n",
    "plt.title('Developer Type Distribution')\n",
    "plt.xlabel('Developer Type')\n",
    "plt.ylabel('Count')\n",
    "plt.show()\n"
   ],
   "id": "a2fc5a1ada8fca48",
   "outputs": [
    {
     "name": "stdout",
     "output_type": "stream",
     "text": [
      "response_id\n",
      "1     NaN\n",
      "2    16.0\n",
      "3    10.0\n",
      "4    16.0\n",
      "5    16.0\n",
      "Name: dev_type, dtype: float64\n",
      "response_id\n",
      "65433     2.0\n",
      "65434     NaN\n",
      "65435    18.0\n",
      "65436    12.0\n",
      "65437     NaN\n",
      "Name: dev_type, dtype: float64\n",
      "5992\n",
      "dev_type\n",
      "16.0    18260\n",
      "12.0     9928\n",
      "33.0     5102\n",
      "15.0     3349\n",
      "13.0     2493\n",
      "26.0     2458\n",
      "18.0     2021\n",
      "14.0     1623\n",
      "23.0     1275\n",
      "1.0      1238\n",
      "4.0      1118\n",
      "6.0      1024\n",
      "20.0     1019\n",
      "29.0      943\n",
      "32.0      837\n",
      "17.0      706\n",
      "3.0       634\n",
      "34.0      552\n",
      "11.0      543\n",
      "19.0      525\n",
      "5.0       523\n",
      "28.0      418\n",
      "31.0      356\n",
      "21.0      355\n",
      "30.0      332\n",
      "22.0      310\n",
      "27.0      290\n",
      "2.0       235\n",
      "10.0      224\n",
      "24.0      200\n",
      "8.0       182\n",
      "7.0       171\n",
      "9.0       105\n",
      "25.0       96\n",
      "Name: count, dtype: int64\n"
     ]
    },
    {
     "data": {
      "text/plain": [
       "<Figure size 1200x600 with 1 Axes>"
      ],
      "image/png": "[encoded data removed]"
     },
     "metadata": {},
     "output_type": "display_data"
    }
   ],
   "execution_count": 13
  }
 ],
 "metadata": {},
 "nbformat": 4,
 "nbformat_minor": 5
}
