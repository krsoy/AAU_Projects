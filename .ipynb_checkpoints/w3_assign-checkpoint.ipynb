{
 "cells": [
  {
   "cell_type": "code",
   "execution_count": null,
   "id": "initial_id",
   "metadata": {
    "collapsed": true
   },
   "outputs": [],
   "source": [
    "import numpy as np\n",
    "import pandas as pd\n",
    "import seaborn as sns\n",
    "import matplotlib.pyplot as plt\n",
    "import os\n",
    "import numpy as np\n",
    "\n",
    "# Load data\n",
    "csv_files = os.listdir('cardata/')\n",
    "for csv_file in csv_files:\n",
    "    print('starting', csv_file)\n",
    "    df = pd.read_csv(f'cardata/{csv_file}')\n",
    "    print(df.head())\n",
    "    print(df.info())\n",
    "    print(df.describe())\n",
    "    print(df.isnull().sum())\n",
    "    print(df.duplicated().sum())\n",
    "    print('*'*40)\n"
   ]
  }
 ],
 "metadata": {
  "kernelspec": {
   "display_name": "Python 3",
   "language": "python",
   "name": "python3"
  },
  "language_info": {
   "codemirror_mode": {
    "name": "ipython",
    "version": 2
   },
   "file_extension": ".py",
   "mimetype": "text/x-python",
   "name": "python",
   "nbconvert_exporter": "python",
   "pygments_lexer": "ipython2",
   "version": "2.7.6"
  }
 },
 "nbformat": 4,
 "nbformat_minor": 5
}
